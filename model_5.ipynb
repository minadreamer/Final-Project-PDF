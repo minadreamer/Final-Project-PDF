{
 "cells": [
  {
   "cell_type": "markdown",
   "metadata": {},
   "source": [
    "# Data Preparation"
   ]
  },
  {
   "cell_type": "markdown",
   "metadata": {},
   "source": [
    "## Libraries"
   ]
  },
  {
   "cell_type": "code",
   "execution_count": 1,
   "metadata": {
    "ExecuteTime": {
     "end_time": "2020-02-21T11:47:35.359315Z",
     "start_time": "2020-02-21T11:47:35.345091Z"
    }
   },
   "outputs": [
    {
     "name": "stderr",
     "output_type": "stream",
     "text": [
      "Using TensorFlow backend.\n"
     ]
    }
   ],
   "source": [
    "import os\n",
    "import sys\n",
    "import numpy as np\n",
    "import matplotlib.pyplot as plt\n",
    "from keras.models import Sequential\n",
    "from keras.layers import Conv2D\n",
    "from keras.layers import MaxPooling2D\n",
    "from keras.layers import Dense\n",
    "from keras.layers import Flatten\n",
    "from keras.layers import Dropout\n",
    "from keras.preprocessing.image import ImageDataGenerator\n",
    "from keras.layers import Activation, Dense"
   ]
  },
  {
   "cell_type": "markdown",
   "metadata": {},
   "source": [
    "## Directories"
   ]
  },
  {
   "cell_type": "code",
   "execution_count": 2,
   "metadata": {
    "ExecuteTime": {
     "end_time": "2020-02-21T08:56:44.273876Z",
     "start_time": "2020-02-21T08:56:44.267642Z"
    }
   },
   "outputs": [
    {
     "data": {
      "text/plain": [
       "'/Users/mina/2_Bootcamp/cnn/drone_images'"
      ]
     },
     "execution_count": 2,
     "metadata": {},
     "output_type": "execute_result"
    }
   ],
   "source": [
    "pwd"
   ]
  },
  {
   "cell_type": "code",
   "execution_count": 3,
   "metadata": {
    "ExecuteTime": {
     "end_time": "2020-02-21T08:56:44.950454Z",
     "start_time": "2020-02-21T08:56:44.947224Z"
    }
   },
   "outputs": [],
   "source": [
    "test_dir='./test'\n",
    "val_dir='./val'\n",
    "train_dir='/Users/mina/2_Bootcamp/cnn/drone_images/train'"
   ]
  },
  {
   "cell_type": "code",
   "execution_count": 4,
   "metadata": {
    "ExecuteTime": {
     "end_time": "2020-02-21T08:56:49.727833Z",
     "start_time": "2020-02-21T08:56:49.723514Z"
    }
   },
   "outputs": [],
   "source": [
    "train_dir_one = train_dir + '/one'\n",
    "train_dir_zero = train_dir + '/zero'\n",
    "\n",
    "val_dir_one = val_dir + '/one'\n",
    "val_dir_zero = val_dir + '/zero'\n",
    "\n",
    "test_dir = test_dir\n",
    "# test_dir_one = test_dir + '/one'\n",
    "# test_dir_zero = test_dir + '/zero'"
   ]
  },
  {
   "cell_type": "code",
   "execution_count": 5,
   "metadata": {
    "ExecuteTime": {
     "end_time": "2020-02-21T08:56:52.727402Z",
     "start_time": "2020-02-21T08:56:52.707021Z"
    }
   },
   "outputs": [],
   "source": [
    "test = os.listdir(test_dir)\n",
    "test.remove('.DS_Store')"
   ]
  },
  {
   "cell_type": "code",
   "execution_count": 6,
   "metadata": {
    "ExecuteTime": {
     "end_time": "2020-02-21T08:56:55.731865Z",
     "start_time": "2020-02-21T08:56:55.682929Z"
    }
   },
   "outputs": [
    {
     "name": "stdout",
     "output_type": "stream",
     "text": [
      "number of Class 0 images in training images -  2954\n",
      "number of Class 1 images in training images -  2417\n",
      "number of Class 0 images in testing images -  1181\n",
      "number of Class 1 images in testing images -  966\n",
      "number of images in testing images -  3226\n"
     ]
    }
   ],
   "source": [
    "print('number of Class 0 images in training images - ',len(os.listdir(train_dir_zero)))\n",
    "print('number of Class 1 images in training images - ',len(os.listdir(train_dir_one)))\n",
    "\n",
    "print('number of Class 0 images in testing images - ',len(os.listdir(val_dir_zero)))\n",
    "print('number of Class 1 images in testing images - ',len(os.listdir(val_dir_one)))\n",
    "\n",
    "print('number of images in testing images - ',len(os.listdir(test_dir)))\n",
    "\n",
    "# print('number of 1 images in testing images - ',len(os.listdir(test_dir_one)))\n",
    "# print('number of 0 images in testing images - ',len(os.listdir(test_dir_zero)))"
   ]
  },
  {
   "cell_type": "markdown",
   "metadata": {},
   "source": [
    "# Model with 3 blocks"
   ]
  },
  {
   "cell_type": "markdown",
   "metadata": {},
   "source": [
    "## With 'relu'"
   ]
  },
  {
   "cell_type": "code",
   "execution_count": 7,
   "metadata": {},
   "outputs": [
    {
     "name": "stdout",
     "output_type": "stream",
     "text": [
      "Found 5371 images belonging to 2 classes.\n",
      "Found 2147 images belonging to 2 classes.\n"
     ]
    }
   ],
   "source": [
    "# create data generator\n",
    "datagen = ImageDataGenerator(rescale=1.0/255.0)\n",
    "    \n",
    "# prepare iterators\n",
    "train_it = datagen.flow_from_directory(directory = train_dir,\n",
    "                                        target_size=(200, 200),\n",
    "                                        batch_size=64,\n",
    "                                        class_mode='binary')\n",
    "    \n",
    "test_it = datagen.flow_from_directory(directory = val_dir,\n",
    "                                      target_size=(200, 200),\n",
    "                                      batch_size=64,\n",
    "                                      class_mode='binary')"
   ]
  },
  {
   "cell_type": "code",
   "execution_count": 10,
   "metadata": {},
   "outputs": [],
   "source": [
    "model = Sequential()\n",
    "\n",
    "# Step 1 - Convolution\n",
    "model.add(Conv2D(32, (3, 3), activation='relu', input_shape = (200, 200, 3)))\n",
    "model.add(MaxPooling2D(pool_size = (2, 2)))\n",
    "\n",
    "model.add(Conv2D(64, (3, 3), activation='relu'))\n",
    "model.add(MaxPooling2D(pool_size = (2, 2)))\n",
    "\n",
    "model.add(Conv2D(128, (3, 3), activation='relu'))\n",
    "model.add(MaxPooling2D(pool_size = (2, 2)))\n",
    "\n",
    "model.add(Flatten())\n",
    "\n",
    "model.add(Dense(128, activation='relu'))\n",
    "model.add(Dense(64, activation='relu'))\n",
    "model.add(Dense(1, activation = 'sigmoid'))\n",
    "\n",
    "model.compile(optimizer = 'adam', loss = 'binary_crossentropy', metrics = ['accuracy'])"
   ]
  },
  {
   "cell_type": "code",
   "execution_count": 11,
   "metadata": {},
   "outputs": [
    {
     "name": "stdout",
     "output_type": "stream",
     "text": [
      "Model: \"sequential_2\"\n",
      "_________________________________________________________________\n",
      "Layer (type)                 Output Shape              Param #   \n",
      "=================================================================\n",
      "conv2d_4 (Conv2D)            (None, 198, 198, 32)      896       \n",
      "_________________________________________________________________\n",
      "max_pooling2d_4 (MaxPooling2 (None, 99, 99, 32)        0         \n",
      "_________________________________________________________________\n",
      "conv2d_5 (Conv2D)            (None, 97, 97, 64)        18496     \n",
      "_________________________________________________________________\n",
      "max_pooling2d_5 (MaxPooling2 (None, 48, 48, 64)        0         \n",
      "_________________________________________________________________\n",
      "conv2d_6 (Conv2D)            (None, 46, 46, 128)       73856     \n",
      "_________________________________________________________________\n",
      "max_pooling2d_6 (MaxPooling2 (None, 23, 23, 128)       0         \n",
      "_________________________________________________________________\n",
      "flatten_2 (Flatten)          (None, 67712)             0         \n",
      "_________________________________________________________________\n",
      "dense_3 (Dense)              (None, 128)               8667264   \n",
      "_________________________________________________________________\n",
      "dense_4 (Dense)              (None, 64)                8256      \n",
      "_________________________________________________________________\n",
      "dense_5 (Dense)              (None, 1)                 65        \n",
      "=================================================================\n",
      "Total params: 8,768,833\n",
      "Trainable params: 8,768,833\n",
      "Non-trainable params: 0\n",
      "_________________________________________________________________\n"
     ]
    }
   ],
   "source": [
    "model.summary()"
   ]
  },
  {
   "cell_type": "code",
   "execution_count": null,
   "metadata": {},
   "outputs": [],
   "source": [
    "batch_size = 64\n",
    "history = model.fit_generator(train_it, \n",
    "                              steps_per_epoch=np.ceil(train_it.samples / batch_size),\n",
    "                              validation_data=test_it,\n",
    "                              validation_steps=np.ceil(test_it.samples / batch_size), \n",
    "                              epochs=10)\n",
    "# evaluate model\n",
    "_, acc = model.evaluate_generator(test_it, steps=len(test_it))\n",
    "print('> %.3f' % (acc * 100.0))"
   ]
  },
  {
   "cell_type": "code",
   "execution_count": null,
   "metadata": {},
   "outputs": [],
   "source": [
    "plt.style.use('bmh')\n",
    "fig = plt.figure(figsize = (10,8))\n",
    "\n",
    "plt.subplot(211)\n",
    "plt.title('Cross Entropy Loss')\n",
    "plt.plot(history.history['loss'], color='cyan', label='train')\n",
    "plt.plot(history.history['val_loss'], color='magenta', label='validation')\n",
    "plt.legend(loc='upper right')\n",
    "    # plot accuracy\n",
    "plt.subplot(212)\n",
    "plt.title('Classification Accuracy')\n",
    "plt.plot(history.history['accuracy'], color='cyan', label='train')\n",
    "plt.plot(history.history['val_accuracy'], color='magenta', label='validation')\n",
    "plt.legend(loc='upper right')\n",
    "    # save plot to file\n",
    "filename = sys.argv[0].split('/')[-1]\n",
    "plt.savefig(filename + '_plot.png')\n",
    "plt.show()"
   ]
  },
  {
   "cell_type": "markdown",
   "metadata": {},
   "source": [
    "## With 'selu'"
   ]
  },
  {
   "cell_type": "code",
   "execution_count": null,
   "metadata": {},
   "outputs": [],
   "source": [
    "# create data generator\n",
    "datagen = ImageDataGenerator(rescale=1.0/255.0)\n",
    "    \n",
    "# prepare iterators\n",
    "train_it = datagen.flow_from_directory(directory = train_dir,\n",
    "                                        target_size=(200, 200),\n",
    "                                        batch_size=64,\n",
    "                                        class_mode='binary')\n",
    "    \n",
    "test_it = datagen.flow_from_directory(directory = val_dir,\n",
    "                                      target_size=(200, 200),\n",
    "                                      batch_size=64,\n",
    "                                      class_mode='binary')"
   ]
  },
  {
   "cell_type": "code",
   "execution_count": null,
   "metadata": {},
   "outputs": [],
   "source": [
    "model = Sequential()\n",
    "\n",
    "# Step 1 - Convolution\n",
    "model.add(Conv2D(32, (3, 3), activation='selu', padding='same', input_shape = (200, 200, 3)))\n",
    "model.add(MaxPooling2D(pool_size = (2, 2)))\n",
    "\n",
    "model.add(Conv2D(64, (3, 3), activation='selu', padding='same'))\n",
    "model.add(MaxPooling2D(pool_size = (2, 2)))\n",
    "\n",
    "model.add(Conv2D(128, (3, 3), activation='selu', padding='same'))\n",
    "model.add(MaxPooling2D(pool_size = (2, 2)))\n",
    "\n",
    "model.add(Flatten())\n",
    "\n",
    "model.add(Dense(128, activation='selu'))\n",
    "model.add(Dense(1, activation = 'sigmoid'))\n",
    "\n",
    "model.compile(optimizer = 'adam', loss = 'binary_crossentropy', metrics = ['accuracy'])"
   ]
  },
  {
   "cell_type": "code",
   "execution_count": null,
   "metadata": {},
   "outputs": [],
   "source": [
    "model.summary()"
   ]
  },
  {
   "cell_type": "code",
   "execution_count": null,
   "metadata": {},
   "outputs": [],
   "source": [
    "batch_size = 64\n",
    "history = model.fit_generator(train_it, \n",
    "                              steps_per_epoch=np.ceil(train_it.samples / batch_size),\n",
    "                              validation_data=test_it,\n",
    "                              validation_steps=np.ceil(test_it.samples / batch_size), \n",
    "                              epochs=20)\n",
    "# evaluate model\n",
    "_, acc = model.evaluate_generator(test_it, steps=len(test_it))\n",
    "print('> %.3f' % (acc * 100.0))"
   ]
  },
  {
   "cell_type": "code",
   "execution_count": null,
   "metadata": {},
   "outputs": [],
   "source": [
    "plt.style.use('bmh')\n",
    "fig = plt.figure(figsize = (10,8))\n",
    "\n",
    "plt.subplot(211)\n",
    "plt.title('Cross Entropy Loss')\n",
    "plt.plot(history.history['loss'], color='cyan', label='train')\n",
    "plt.plot(history.history['val_loss'], color='magenta', label='validation')\n",
    "plt.legend(loc='upper right')\n",
    "    # plot accuracy\n",
    "plt.subplot(212)\n",
    "plt.title('Classification Accuracy')\n",
    "plt.plot(history.history['accuracy'], color='cyan', label='train')\n",
    "plt.plot(history.history['val_accuracy'], color='magenta', label='validation')\n",
    "plt.legend(loc='upper right')\n",
    "    # save plot to file\n",
    "filename = sys.argv[0].split('/')[-1]\n",
    "plt.savefig(filename + '_plot.png')\n",
    "plt.show()"
   ]
  },
  {
   "cell_type": "markdown",
   "metadata": {},
   "source": [
    "## Best model with 'rmsprop'"
   ]
  },
  {
   "cell_type": "code",
   "execution_count": null,
   "metadata": {},
   "outputs": [],
   "source": [
    "# create data generator\n",
    "datagen = ImageDataGenerator(rescale=1.0/255.0)\n",
    "    \n",
    "# prepare iterators\n",
    "train_it = datagen.flow_from_directory(directory = train_dir,\n",
    "                                        target_size=(200, 200),\n",
    "                                        batch_size=64,\n",
    "                                        class_mode='binary')\n",
    "    \n",
    "test_it = datagen.flow_from_directory(directory = val_dir,\n",
    "                                      target_size=(200, 200),\n",
    "                                      batch_size=64,\n",
    "                                      class_mode='binary')"
   ]
  },
  {
   "cell_type": "code",
   "execution_count": null,
   "metadata": {},
   "outputs": [],
   "source": [
    "# most\n",
    "model = Sequential()\n",
    "\n",
    "# Step 1 - Convolution\n",
    "model.add(Conv2D(32, (3, 3), activation='relu', input_shape = (200, 200, 3)))\n",
    "model.add(MaxPooling2D(pool_size = (3, 3)))\n",
    "\n",
    "model.add(Conv2D(64, (3, 3), activation='relu'))\n",
    "model.add(MaxPooling2D(pool_size = (2, 2)))\n",
    "\n",
    "model.add(Flatten())\n",
    "\n",
    "model.add(Dense(64, activation='relu')) \n",
    "model.add(Dense(128, activation='relu')) \n",
    "model.add(Dense(1, activation = 'sigmoid'))\n",
    "\n",
    "model.compile(optimizer = 'rmsprop', loss = 'binary_crossentropy', metrics = ['accuracy'])"
   ]
  },
  {
   "cell_type": "code",
   "execution_count": null,
   "metadata": {},
   "outputs": [],
   "source": [
    "model.summary()"
   ]
  },
  {
   "cell_type": "code",
   "execution_count": null,
   "metadata": {},
   "outputs": [],
   "source": [
    "batch_size = 64\n",
    "history = model.fit_generator(train_it, \n",
    "                              steps_per_epoch=np.ceil(train_it.samples / batch_size),\n",
    "                              validation_data=test_it,\n",
    "                              validation_steps=np.ceil(test_it.samples / batch_size), \n",
    "                              epochs=20)\n",
    "# evaluate model\n",
    "_, acc = model.evaluate_generator(test_it, steps=len(test_it))\n",
    "print('> %.3f' % (acc * 100.0))"
   ]
  },
  {
   "cell_type": "code",
   "execution_count": null,
   "metadata": {},
   "outputs": [],
   "source": [
    "plt.style.use('bmh')\n",
    "fig = plt.figure(figsize = (10,8))\n",
    "\n",
    "plt.subplot(211)\n",
    "plt.title('Cross Entropy Loss')\n",
    "plt.plot(history.history['loss'], color='cyan', label='train')\n",
    "plt.plot(history.history['val_loss'], color='magenta', label='validation')\n",
    "plt.legend(loc='upper right')\n",
    "    # plot accuracy\n",
    "plt.subplot(212)\n",
    "plt.title('Classification Accuracy')\n",
    "plt.plot(history.history['accuracy'], color='cyan', label='train')\n",
    "plt.plot(history.history['val_accuracy'], color='magenta', label='validation')\n",
    "plt.legend(loc='upper right')\n",
    "    # save plot to file\n",
    "filename = sys.argv[0].split('/')[-1]\n",
    "plt.savefig(filename + '_plot.png')\n",
    "plt.show()"
   ]
  },
  {
   "cell_type": "markdown",
   "metadata": {},
   "source": [
    "## Best model with 'selu' and 'rmsprop'"
   ]
  },
  {
   "cell_type": "code",
   "execution_count": null,
   "metadata": {},
   "outputs": [],
   "source": [
    "# create data generator\n",
    "datagen = ImageDataGenerator(rescale=1.0/255.0)\n",
    "    \n",
    "# prepare iterators\n",
    "train_it = datagen.flow_from_directory(directory = train_dir,\n",
    "                                        target_size=(200, 200),\n",
    "                                        batch_size=64,\n",
    "                                        class_mode='binary')\n",
    "    \n",
    "test_it = datagen.flow_from_directory(directory = val_dir,\n",
    "                                      target_size=(200, 200),\n",
    "                                      batch_size=64,\n",
    "                                      class_mode='binary')"
   ]
  },
  {
   "cell_type": "code",
   "execution_count": null,
   "metadata": {},
   "outputs": [],
   "source": [
    "# most\n",
    "model = Sequential()\n",
    "\n",
    "# Step 1 - Convolution\n",
    "model.add(Conv2D(32, (3, 3), activation='selu', input_shape = (200, 200, 3)))\n",
    "model.add(MaxPooling2D(pool_size = (3, 3)))\n",
    "\n",
    "model.add(Conv2D(64, (3, 3), activation='selu'))\n",
    "model.add(MaxPooling2D(pool_size = (2, 2)))\n",
    "\n",
    "model.add(Flatten())\n",
    "\n",
    "model.add(Dense(64, activation='selu')) \n",
    "model.add(Dense(128, activation='selu')) \n",
    "model.add(Dense(1, activation = 'sigmoid'))\n",
    "\n",
    "model.compile(optimizer = 'rmsprop', loss = 'binary_crossentropy', metrics = ['accuracy'])"
   ]
  },
  {
   "cell_type": "code",
   "execution_count": null,
   "metadata": {},
   "outputs": [],
   "source": [
    "model.summary()"
   ]
  },
  {
   "cell_type": "code",
   "execution_count": null,
   "metadata": {},
   "outputs": [],
   "source": [
    "batch_size = 64\n",
    "history = model.fit_generator(train_it, \n",
    "                              steps_per_epoch=np.ceil(train_it.samples / batch_size),\n",
    "                              validation_data=test_it,\n",
    "                              validation_steps=np.ceil(test_it.samples / batch_size), \n",
    "                              epochs=20)\n",
    "# evaluate model\n",
    "_, acc = model.evaluate_generator(test_it, steps=len(test_it))\n",
    "print('> %.3f' % (acc * 100.0))"
   ]
  },
  {
   "cell_type": "code",
   "execution_count": null,
   "metadata": {},
   "outputs": [],
   "source": [
    "plt.style.use('bmh')\n",
    "fig = plt.figure(figsize = (10,8))\n",
    "\n",
    "plt.subplot(211)\n",
    "plt.title('Cross Entropy Loss')\n",
    "plt.plot(history.history['loss'], color='cyan', label='train')\n",
    "plt.plot(history.history['val_loss'], color='magenta', label='validation')\n",
    "plt.legend(loc='upper right')\n",
    "    # plot accuracy\n",
    "plt.subplot(212)\n",
    "plt.title('Classification Accuracy')\n",
    "plt.plot(history.history['accuracy'], color='cyan', label='train')\n",
    "plt.plot(history.history['val_accuracy'], color='magenta', label='validation')\n",
    "plt.legend(loc='upper right')\n",
    "    # save plot to file\n",
    "filename = sys.argv[0].split('/')[-1]\n",
    "plt.savefig(filename + '_plot.png')\n",
    "plt.show()"
   ]
  },
  {
   "cell_type": "markdown",
   "metadata": {},
   "source": [
    "# Best model with 50 epochs"
   ]
  },
  {
   "cell_type": "markdown",
   "metadata": {},
   "source": [
    "## Best model with 'selu' and 'adam'"
   ]
  },
  {
   "cell_type": "code",
   "execution_count": null,
   "metadata": {},
   "outputs": [],
   "source": [
    "# create data generator\n",
    "datagen = ImageDataGenerator(rescale=1.0/255.0)\n",
    "    \n",
    "# prepare iterators\n",
    "train_it = datagen.flow_from_directory(directory = train_dir,\n",
    "                                        target_size=(200, 200),\n",
    "                                        batch_size=64,\n",
    "                                        class_mode='binary')\n",
    "    \n",
    "test_it = datagen.flow_from_directory(directory = val_dir,\n",
    "                                      target_size=(200, 200),\n",
    "                                      batch_size=64,\n",
    "                                      class_mode='binary')"
   ]
  },
  {
   "cell_type": "code",
   "execution_count": null,
   "metadata": {},
   "outputs": [],
   "source": [
    "model = Sequential()\n",
    "\n",
    "# Step 1 - Convolution\n",
    "model.add(Conv2D(32, (3, 3), activation='selu', input_shape = (200, 200, 3)))\n",
    "model.add(MaxPooling2D(pool_size = (3, 3)))\n",
    "\n",
    "model.add(Conv2D(64, (3, 3), activation='selu', input_shape = (200, 200, 3)))\n",
    "model.add(MaxPooling2D(pool_size = (2, 2)))\n",
    "\n",
    "model.add(Flatten())\n",
    "\n",
    "model.add(Dense(64, activation='selu')) \n",
    "model.add(Dense(128, activation='selu'))\n",
    "model.add(Dense(1, activation = 'sigmoid'))\n",
    "\n",
    "model.compile(optimizer = 'adam', loss = 'binary_crossentropy', metrics = ['accuracy'])"
   ]
  },
  {
   "cell_type": "code",
   "execution_count": null,
   "metadata": {},
   "outputs": [],
   "source": [
    "model.summary()"
   ]
  },
  {
   "cell_type": "code",
   "execution_count": null,
   "metadata": {},
   "outputs": [],
   "source": [
    "batch_size = 64\n",
    "history = model.fit_generator(train_it, \n",
    "                              steps_per_epoch=np.ceil(train_it.samples / batch_size),\n",
    "                              validation_data=test_it,\n",
    "                              validation_steps=np.ceil(test_it.samples / batch_size), \n",
    "                              epochs=50)\n",
    "# evaluate model\n",
    "_, acc = model.evaluate_generator(test_it, steps=len(test_it))\n",
    "print('> %.3f' % (acc * 100.0))"
   ]
  },
  {
   "cell_type": "code",
   "execution_count": null,
   "metadata": {},
   "outputs": [],
   "source": [
    "plt.style.use('bmh')\n",
    "fig = plt.figure(figsize = (10,8))\n",
    "\n",
    "plt.subplot(211)\n",
    "plt.title('Cross Entropy Loss')\n",
    "plt.plot(history.history['loss'], color='cyan', label='train')\n",
    "plt.plot(history.history['val_loss'], color='magenta', label='validation')\n",
    "plt.legend(loc='upper right')\n",
    "    # plot accuracy\n",
    "plt.subplot(212)\n",
    "plt.title('Classification Accuracy')\n",
    "plt.plot(history.history['accuracy'], color='cyan', label='train')\n",
    "plt.plot(history.history['val_accuracy'], color='magenta', label='validation')\n",
    "plt.legend(loc='upper right')\n",
    "    # save plot to file\n",
    "filename = sys.argv[0].split('/')[-1]\n",
    "plt.savefig(filename + '_plot.png')\n",
    "plt.show()"
   ]
  },
  {
   "cell_type": "markdown",
   "metadata": {},
   "source": [
    "## Best model with 'relu' and 'rmsprop'"
   ]
  },
  {
   "cell_type": "code",
   "execution_count": null,
   "metadata": {},
   "outputs": [],
   "source": [
    "# create data generator\n",
    "datagen = ImageDataGenerator(rescale=1.0/255.0)\n",
    "    \n",
    "# prepare iterators\n",
    "train_it = datagen.flow_from_directory(directory = train_dir,\n",
    "                                        target_size=(200, 200),\n",
    "                                        batch_size=64,\n",
    "                                        class_mode='binary')\n",
    "    \n",
    "test_it = datagen.flow_from_directory(directory = val_dir,\n",
    "                                      target_size=(200, 200),\n",
    "                                      batch_size=64,\n",
    "                                      class_mode='binary')"
   ]
  },
  {
   "cell_type": "code",
   "execution_count": null,
   "metadata": {},
   "outputs": [],
   "source": [
    "model = Sequential()\n",
    "\n",
    "# Step 1 - Convolution\n",
    "model.add(Conv2D(32, (3, 3), activation='relu', input_shape = (200, 200, 3)))\n",
    "model.add(MaxPooling2D(pool_size = (3, 3)))\n",
    "\n",
    "model.add(Conv2D(64, (3, 3), activation='relu', input_shape = (200, 200, 3)))\n",
    "model.add(MaxPooling2D(pool_size = (2, 2)))\n",
    "\n",
    "model.add(Flatten())\n",
    "\n",
    "model.add(Dense(64, activation='relu')) \n",
    "model.add(Dense(128, activation='relu'))\n",
    "model.add(Dense(1, activation = 'sigmoid'))\n",
    "\n",
    "model.compile(optimizer = 'rmsprop', loss = 'binary_crossentropy', metrics = ['accuracy'])"
   ]
  },
  {
   "cell_type": "code",
   "execution_count": null,
   "metadata": {},
   "outputs": [],
   "source": [
    "model.summary()"
   ]
  },
  {
   "cell_type": "code",
   "execution_count": null,
   "metadata": {},
   "outputs": [],
   "source": [
    "plt.style.use('bmh')\n",
    "fig = plt.figure(figsize = (10,8))\n",
    "\n",
    "plt.subplot(211)\n",
    "plt.title('Cross Entropy Loss')\n",
    "plt.plot(history.history['loss'], color='cyan', label='train')\n",
    "plt.plot(history.history['val_loss'], color='magenta', label='validation')\n",
    "plt.legend(loc='upper right')\n",
    "    # plot accuracy\n",
    "plt.subplot(212)\n",
    "plt.title('Classification Accuracy')\n",
    "plt.plot(history.history['accuracy'], color='cyan', label='train')\n",
    "plt.plot(history.history['val_accuracy'], color='magenta', label='validation')\n",
    "plt.legend(loc='upper right')\n",
    "    # save plot to file\n",
    "filename = sys.argv[0].split('/')[-1]\n",
    "plt.savefig(filename + '_plot.png')\n",
    "plt.show()"
   ]
  },
  {
   "cell_type": "code",
   "execution_count": null,
   "metadata": {},
   "outputs": [],
   "source": [
    "# # save model\n",
    "# model.save('model.h5')\n",
    "# # 2 layers, dropout, 200x200, relu, adam, 88,4%"
   ]
  }
 ],
 "metadata": {
  "kernelspec": {
   "display_name": "Python 3",
   "language": "python",
   "name": "python3"
  },
  "language_info": {
   "codemirror_mode": {
    "name": "ipython",
    "version": 3
   },
   "file_extension": ".py",
   "mimetype": "text/x-python",
   "name": "python",
   "nbconvert_exporter": "python",
   "pygments_lexer": "ipython3",
   "version": "3.6.9"
  },
  "toc": {
   "base_numbering": 1,
   "nav_menu": {},
   "number_sections": true,
   "sideBar": true,
   "skip_h1_title": false,
   "title_cell": "Table of Contents",
   "title_sidebar": "Contents",
   "toc_cell": false,
   "toc_position": {},
   "toc_section_display": true,
   "toc_window_display": false
  }
 },
 "nbformat": 4,
 "nbformat_minor": 4
}
